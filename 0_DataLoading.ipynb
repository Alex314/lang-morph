{
 "cells": [
  {
   "cell_type": "code",
   "execution_count": null,
   "id": "1298bded-801c-4804-9aba-0c1e7708982b",
   "metadata": {},
   "outputs": [],
   "source": [
    "import json\n",
    "import sqlite3\n",
    "\n",
    "import pandas as pd\n",
    "from tqdm import tqdm\n",
    "\n",
    "tqdm.pandas()"
   ]
  },
  {
   "cell_type": "markdown",
   "id": "5d284abe-3aac-4bb5-81b0-1ab0a0ea1e8e",
   "metadata": {},
   "source": [
    "# UA\n",
    "\n",
    "Load Ukrainian morphological dictionary<br>\n",
    "Source of dataset with detailed descriptions here: https://github.com/LinguisticAndInformationSystems/mphdict"
   ]
  },
  {
   "cell_type": "markdown",
   "id": "230e663c-9d7f-4297-81c1-f064b41576dc",
   "metadata": {},
   "source": [
    "## Download dictionary"
   ]
  },
  {
   "cell_type": "code",
   "execution_count": 2,
   "id": "adbc71dc-bc67-43d7-ab16-66e727340532",
   "metadata": {},
   "outputs": [
    {
     "name": "stdout",
     "output_type": "stream",
     "text": [
      "  % Total    % Received % Xferd  Average Speed   Time    Time     Time  Current\n",
      "                                 Dload  Upload   Total   Spent    Left  Speed\n",
      "100 65.7M  100 65.7M    0     0  8711k      0  0:00:07  0:00:07 --:--:-- 9214k\n"
     ]
    }
   ],
   "source": [
    "!curl -o ./data/mph_ua.db https://raw.githubusercontent.com/LinguisticAndInformationSystems/mphdict/master/src/data/mph_ua.db"
   ]
  },
  {
   "cell_type": "markdown",
   "id": "e38a3f19-a038-4d38-b09d-20c59fba3548",
   "metadata": {
    "tags": []
   },
   "source": [
    "## Read data"
   ]
  },
  {
   "cell_type": "code",
   "execution_count": 3,
   "id": "283c10f7-1f0d-4cb5-93f0-8e3840a8401a",
   "metadata": {},
   "outputs": [],
   "source": [
    "sqlite_connection = sqlite3.connect('data/mph_ua.db')"
   ]
  },
  {
   "cell_type": "code",
   "execution_count": 4,
   "id": "83fd06c6-c067-4560-9804-645f706576ee",
   "metadata": {},
   "outputs": [
    {
     "data": {
      "text/plain": [
       "(261499, 15)"
      ]
     },
     "execution_count": 4,
     "metadata": {},
     "output_type": "execute_result"
    }
   ],
   "source": [
    "nom = pd.read_sql_query(\"select * from nom\", sqlite_connection)\n",
    "nom.shape"
   ]
  },
  {
   "cell_type": "code",
   "execution_count": 5,
   "id": "4aa08640-2860-4c4e-a985-bd59cb2a63c9",
   "metadata": {},
   "outputs": [
    {
     "data": {
      "text/plain": [
       "(261496, 15)"
      ]
     },
     "execution_count": 5,
     "metadata": {},
     "output_type": "execute_result"
    }
   ],
   "source": [
    "# Wrong characters in the words (digit 6, latin c)\n",
    "# Filtering them out\n",
    "\n",
    "cnd = nom.reestr.isin(['П6тік-на-Дубе\"цькому', 'ча\"cкі', 'ба\"нcурі'])\n",
    "nom = nom.loc[~cnd].copy()\n",
    "nom.shape"
   ]
  },
  {
   "cell_type": "code",
   "execution_count": 6,
   "id": "4343d3c0-dcd6-41e3-8fb0-39562c8da60e",
   "metadata": {},
   "outputs": [
    {
     "data": {
      "text/html": [
       "<div>\n",
       "<style scoped>\n",
       "    .dataframe tbody tr th:only-of-type {\n",
       "        vertical-align: middle;\n",
       "    }\n",
       "\n",
       "    .dataframe tbody tr th {\n",
       "        vertical-align: top;\n",
       "    }\n",
       "\n",
       "    .dataframe thead th {\n",
       "        text-align: right;\n",
       "    }\n",
       "</style>\n",
       "<table border=\"1\" class=\"dataframe\">\n",
       "  <thead>\n",
       "    <tr style=\"text-align: right;\">\n",
       "      <th></th>\n",
       "      <th>reestr</th>\n",
       "      <th>field2</th>\n",
       "      <th>part</th>\n",
       "      <th>type</th>\n",
       "      <th>field5</th>\n",
       "      <th>field6</th>\n",
       "      <th>field7</th>\n",
       "      <th>digit</th>\n",
       "      <th>nom_old</th>\n",
       "      <th>own</th>\n",
       "      <th>isdel</th>\n",
       "      <th>reverse</th>\n",
       "      <th>isproblem</th>\n",
       "      <th>accent</th>\n",
       "      <th>suppl_accent</th>\n",
       "    </tr>\n",
       "  </thead>\n",
       "  <tbody>\n",
       "    <tr>\n",
       "      <th>7866</th>\n",
       "      <td>бібельдру\"к</td>\n",
       "      <td>0</td>\n",
       "      <td>8</td>\n",
       "      <td>1957</td>\n",
       "      <td></td>\n",
       "      <td></td>\n",
       "      <td></td>\n",
       "      <td>2c27gv6lof</td>\n",
       "      <td>8139</td>\n",
       "      <td>0.0</td>\n",
       "      <td>0</td>\n",
       "      <td>fol6vg72c2</td>\n",
       "      <td>NaN</td>\n",
       "      <td>0.0</td>\n",
       "      <td>NaN</td>\n",
       "    </tr>\n",
       "    <tr>\n",
       "      <th>45671</th>\n",
       "      <td>замаско\"вуватися</td>\n",
       "      <td>0</td>\n",
       "      <td>36</td>\n",
       "      <td>9</td>\n",
       "      <td>None</td>\n",
       "      <td>None</td>\n",
       "      <td>None</td>\n",
       "      <td>a1h1mfj3o31nbmx</td>\n",
       "      <td>47015</td>\n",
       "      <td>0.0</td>\n",
       "      <td>0</td>\n",
       "      <td>xmbn13o3jfm1h1a</td>\n",
       "      <td>NaN</td>\n",
       "      <td>0.0</td>\n",
       "      <td>NaN</td>\n",
       "    </tr>\n",
       "  </tbody>\n",
       "</table>\n",
       "</div>"
      ],
      "text/plain": [
       "                 reestr  field2  part  type field5 field6 field7  \\\n",
       "7866        бібельдру\"к       0     8  1957                        \n",
       "45671  замаско\"вуватися       0    36     9   None   None   None   \n",
       "\n",
       "                 digit  nom_old  own  isdel          reverse  isproblem  \\\n",
       "7866        2c27gv6lof     8139  0.0      0       fol6vg72c2        NaN   \n",
       "45671  a1h1mfj3o31nbmx    47015  0.0      0  xmbn13o3jfm1h1a        NaN   \n",
       "\n",
       "       accent  suppl_accent  \n",
       "7866      0.0           NaN  \n",
       "45671     0.0           NaN  "
      ]
     },
     "execution_count": 6,
     "metadata": {},
     "output_type": "execute_result"
    }
   ],
   "source": [
    "nom.sample(2)"
   ]
  },
  {
   "cell_type": "code",
   "execution_count": 7,
   "id": "6883bd6c-c2da-4709-95ea-90cae59d4042",
   "metadata": {},
   "outputs": [
    {
     "data": {
      "text/plain": [
       "(2796, 6)"
      ]
     },
     "execution_count": 7,
     "metadata": {},
     "output_type": "execute_result"
    }
   ],
   "source": [
    "indents = pd.read_sql_query(\"select * from indents\", sqlite_connection)\n",
    "indents.shape"
   ]
  },
  {
   "cell_type": "code",
   "execution_count": 8,
   "id": "1e383521-7d91-495f-9c0d-521cf6204afe",
   "metadata": {},
   "outputs": [
    {
     "data": {
      "text/html": [
       "<div>\n",
       "<style scoped>\n",
       "    .dataframe tbody tr th:only-of-type {\n",
       "        vertical-align: middle;\n",
       "    }\n",
       "\n",
       "    .dataframe tbody tr th {\n",
       "        vertical-align: top;\n",
       "    }\n",
       "\n",
       "    .dataframe thead th {\n",
       "        text-align: right;\n",
       "    }\n",
       "</style>\n",
       "<table border=\"1\" class=\"dataframe\">\n",
       "  <thead>\n",
       "    <tr style=\"text-align: right;\">\n",
       "      <th></th>\n",
       "      <th>type</th>\n",
       "      <th>indent</th>\n",
       "      <th>field3</th>\n",
       "      <th>field4</th>\n",
       "      <th>comment</th>\n",
       "      <th>gr_id</th>\n",
       "    </tr>\n",
       "  </thead>\n",
       "  <tbody>\n",
       "    <tr>\n",
       "      <th>1066</th>\n",
       "      <td>1155</td>\n",
       "      <td>8</td>\n",
       "      <td>0</td>\n",
       "      <td>0</td>\n",
       "      <td>None</td>\n",
       "      <td>5</td>\n",
       "    </tr>\n",
       "    <tr>\n",
       "      <th>624</th>\n",
       "      <td>690</td>\n",
       "      <td>5</td>\n",
       "      <td>0</td>\n",
       "      <td>0</td>\n",
       "      <td>None</td>\n",
       "      <td>8</td>\n",
       "    </tr>\n",
       "  </tbody>\n",
       "</table>\n",
       "</div>"
      ],
      "text/plain": [
       "      type  indent  field3  field4 comment  gr_id\n",
       "1066  1155       8       0       0    None      5\n",
       "624    690       5       0       0    None      8"
      ]
     },
     "execution_count": 8,
     "metadata": {},
     "output_type": "execute_result"
    }
   ],
   "source": [
    "indents.sample(2)"
   ]
  },
  {
   "cell_type": "code",
   "execution_count": 9,
   "id": "cc3261f8-1606-4d04-8f2c-ea772d401f6d",
   "metadata": {},
   "outputs": [
    {
     "data": {
      "text/plain": [
       "(48142, 6)"
      ]
     },
     "execution_count": 9,
     "metadata": {},
     "output_type": "execute_result"
    }
   ],
   "source": [
    "flexes = pd.read_sql_query(\"select * from flexes\", sqlite_connection)\n",
    "flexes.rename(columns={'field2': 'gramm_category'}, inplace=True)\n",
    "flexes.shape"
   ]
  },
  {
   "cell_type": "code",
   "execution_count": 10,
   "id": "6aae590b-e9f1-462e-a5bd-eb4759f0abd4",
   "metadata": {},
   "outputs": [
    {
     "data": {
      "text/html": [
       "<div>\n",
       "<style scoped>\n",
       "    .dataframe tbody tr th:only-of-type {\n",
       "        vertical-align: middle;\n",
       "    }\n",
       "\n",
       "    .dataframe tbody tr th {\n",
       "        vertical-align: top;\n",
       "    }\n",
       "\n",
       "    .dataframe thead th {\n",
       "        text-align: right;\n",
       "    }\n",
       "</style>\n",
       "<table border=\"1\" class=\"dataframe\">\n",
       "  <thead>\n",
       "    <tr style=\"text-align: right;\">\n",
       "      <th></th>\n",
       "      <th>id</th>\n",
       "      <th>flex</th>\n",
       "      <th>gramm_category</th>\n",
       "      <th>xmpl</th>\n",
       "      <th>type</th>\n",
       "      <th>digit</th>\n",
       "    </tr>\n",
       "  </thead>\n",
       "  <tbody>\n",
       "    <tr>\n",
       "      <th>44591</th>\n",
       "      <td>49799</td>\n",
       "      <td>осами</td>\n",
       "      <td>12.0</td>\n",
       "      <td>None</td>\n",
       "      <td>2843</td>\n",
       "      <td>jm1hb</td>\n",
       "    </tr>\n",
       "    <tr>\n",
       "      <th>6138</th>\n",
       "      <td>6953</td>\n",
       "      <td>уй</td>\n",
       "      <td>2.0</td>\n",
       "      <td>None</td>\n",
       "      <td>380</td>\n",
       "      <td>oe</td>\n",
       "    </tr>\n",
       "  </tbody>\n",
       "</table>\n",
       "</div>"
      ],
      "text/plain": [
       "          id   flex  gramm_category  xmpl  type  digit\n",
       "44591  49799  осами            12.0  None  2843  jm1hb\n",
       "6138    6953     уй             2.0  None   380     oe"
      ]
     },
     "execution_count": 10,
     "metadata": {},
     "output_type": "execute_result"
    }
   ],
   "source": [
    "flexes.sample(2)"
   ]
  },
  {
   "cell_type": "code",
   "execution_count": 11,
   "id": "f0bfcc2b-b2a7-4d53-b520-0452bd6cb0f0",
   "metadata": {},
   "outputs": [
    {
     "data": {
      "text/plain": [
       "(17, 31)"
      ]
     },
     "execution_count": 11,
     "metadata": {},
     "output_type": "execute_result"
    }
   ],
   "source": [
    "gr = pd.read_sql_query(\"select * from gr\", sqlite_connection)\n",
    "gr.shape"
   ]
  },
  {
   "cell_type": "code",
   "execution_count": 12,
   "id": "83bef7a4-2173-4d6e-8f65-f009b9bdca8b",
   "metadata": {},
   "outputs": [
    {
     "data": {
      "text/html": [
       "<div>\n",
       "<style scoped>\n",
       "    .dataframe tbody tr th:only-of-type {\n",
       "        vertical-align: middle;\n",
       "    }\n",
       "\n",
       "    .dataframe tbody tr th {\n",
       "        vertical-align: top;\n",
       "    }\n",
       "\n",
       "    .dataframe thead th {\n",
       "        text-align: right;\n",
       "    }\n",
       "</style>\n",
       "<table border=\"1\" class=\"dataframe\">\n",
       "  <thead>\n",
       "    <tr style=\"text-align: right;\">\n",
       "      <th></th>\n",
       "      <th>id</th>\n",
       "      <th>part_of_speech</th>\n",
       "      <th>field4</th>\n",
       "      <th>field5</th>\n",
       "      <th>field6</th>\n",
       "      <th>field7</th>\n",
       "      <th>field8</th>\n",
       "      <th>field9</th>\n",
       "      <th>field10</th>\n",
       "      <th>field11</th>\n",
       "      <th>...</th>\n",
       "      <th>field23</th>\n",
       "      <th>field24</th>\n",
       "      <th>field25</th>\n",
       "      <th>field26</th>\n",
       "      <th>field27</th>\n",
       "      <th>field28</th>\n",
       "      <th>field29</th>\n",
       "      <th>field30</th>\n",
       "      <th>field31</th>\n",
       "      <th>field32</th>\n",
       "    </tr>\n",
       "  </thead>\n",
       "  <tbody>\n",
       "    <tr>\n",
       "      <th>0</th>\n",
       "      <td>0</td>\n",
       "      <td>None</td>\n",
       "      <td>None</td>\n",
       "      <td>None</td>\n",
       "      <td>None</td>\n",
       "      <td>None</td>\n",
       "      <td>None</td>\n",
       "      <td>None</td>\n",
       "      <td>None</td>\n",
       "      <td>None</td>\n",
       "      <td>...</td>\n",
       "      <td>None</td>\n",
       "      <td>None</td>\n",
       "      <td>None</td>\n",
       "      <td>None</td>\n",
       "      <td>None</td>\n",
       "      <td>None</td>\n",
       "      <td>None</td>\n",
       "      <td>None</td>\n",
       "      <td>None</td>\n",
       "      <td>None</td>\n",
       "    </tr>\n",
       "    <tr>\n",
       "      <th>1</th>\n",
       "      <td>1</td>\n",
       "      <td>іменник</td>\n",
       "      <td>Н s</td>\n",
       "      <td>Р s</td>\n",
       "      <td>Д s</td>\n",
       "      <td>З s</td>\n",
       "      <td>О s</td>\n",
       "      <td>М s</td>\n",
       "      <td>К s</td>\n",
       "      <td>Н p</td>\n",
       "      <td>...</td>\n",
       "      <td>None</td>\n",
       "      <td>None</td>\n",
       "      <td>None</td>\n",
       "      <td>None</td>\n",
       "      <td>None</td>\n",
       "      <td>None</td>\n",
       "      <td>None</td>\n",
       "      <td>None</td>\n",
       "      <td>None</td>\n",
       "      <td>None</td>\n",
       "    </tr>\n",
       "  </tbody>\n",
       "</table>\n",
       "<p>2 rows × 31 columns</p>\n",
       "</div>"
      ],
      "text/plain": [
       "   id part_of_speech field4 field5 field6 field7 field8 field9 field10  \\\n",
       "0   0           None   None   None   None   None   None   None    None   \n",
       "1   1        іменник    Н s    Р s    Д s    З s    О s    М s     К s   \n",
       "\n",
       "  field11  ... field23 field24 field25 field26 field27 field28 field29  \\\n",
       "0    None  ...    None    None    None    None    None    None    None   \n",
       "1     Н p  ...    None    None    None    None    None    None    None   \n",
       "\n",
       "  field30 field31 field32  \n",
       "0    None    None    None  \n",
       "1    None    None    None  \n",
       "\n",
       "[2 rows x 31 columns]"
      ]
     },
     "execution_count": 12,
     "metadata": {},
     "output_type": "execute_result"
    }
   ],
   "source": [
    "gr.head(2)"
   ]
  },
  {
   "cell_type": "code",
   "execution_count": 13,
   "id": "c4cc261b-a963-4004-b2e3-767d6e8bb946",
   "metadata": {},
   "outputs": [
    {
     "data": {
      "text/plain": [
       "(68, 10)"
      ]
     },
     "execution_count": 13,
     "metadata": {},
     "output_type": "execute_result"
    }
   ],
   "source": [
    "parts = pd.read_sql_query(\"select * from parts\", sqlite_connection)\n",
    "parts.shape"
   ]
  },
  {
   "cell_type": "code",
   "execution_count": 14,
   "id": "30537b58-43e2-4c8d-a88f-d55175054e3a",
   "metadata": {},
   "outputs": [
    {
     "data": {
      "text/html": [
       "<div>\n",
       "<style scoped>\n",
       "    .dataframe tbody tr th:only-of-type {\n",
       "        vertical-align: middle;\n",
       "    }\n",
       "\n",
       "    .dataframe tbody tr th {\n",
       "        vertical-align: top;\n",
       "    }\n",
       "\n",
       "    .dataframe thead th {\n",
       "        text-align: right;\n",
       "    }\n",
       "</style>\n",
       "<table border=\"1\" class=\"dataframe\">\n",
       "  <thead>\n",
       "    <tr style=\"text-align: right;\">\n",
       "      <th></th>\n",
       "      <th>id</th>\n",
       "      <th>part</th>\n",
       "      <th>com</th>\n",
       "      <th>ac</th>\n",
       "      <th>gr_id</th>\n",
       "      <th>rid</th>\n",
       "      <th>mnozh</th>\n",
       "      <th>istota</th>\n",
       "      <th>vid</th>\n",
       "      <th>adjekt</th>\n",
       "    </tr>\n",
       "  </thead>\n",
       "  <tbody>\n",
       "    <tr>\n",
       "      <th>0</th>\n",
       "      <td>5</td>\n",
       "      <td>ж</td>\n",
       "      <td>іменник жіночого роду</td>\n",
       "      <td>None</td>\n",
       "      <td>1.0</td>\n",
       "      <td>2</td>\n",
       "      <td>0</td>\n",
       "      <td>2</td>\n",
       "      <td>0</td>\n",
       "      <td>0</td>\n",
       "    </tr>\n",
       "    <tr>\n",
       "      <th>1</th>\n",
       "      <td>6</td>\n",
       "      <td>жі</td>\n",
       "      <td>іменник жіночого роду, істота</td>\n",
       "      <td>None</td>\n",
       "      <td>1.0</td>\n",
       "      <td>2</td>\n",
       "      <td>2</td>\n",
       "      <td>1</td>\n",
       "      <td>0</td>\n",
       "      <td>0</td>\n",
       "    </tr>\n",
       "  </tbody>\n",
       "</table>\n",
       "</div>"
      ],
      "text/plain": [
       "   id part                            com    ac  gr_id  rid  mnozh  istota  \\\n",
       "0   5    ж          іменник жіночого роду  None    1.0    2      0       2   \n",
       "1   6   жі  іменник жіночого роду, істота  None    1.0    2      2       1   \n",
       "\n",
       "   vid  adjekt  \n",
       "0    0       0  \n",
       "1    0       0  "
      ]
     },
     "execution_count": 14,
     "metadata": {},
     "output_type": "execute_result"
    }
   ],
   "source": [
    "parts.head(2)"
   ]
  },
  {
   "cell_type": "markdown",
   "id": "c03e583c-c6c7-4f02-ba9f-aaed076785eb",
   "metadata": {
    "tags": []
   },
   "source": [
    "## Wordforms generation"
   ]
  },
  {
   "cell_type": "code",
   "execution_count": 15,
   "id": "920225a6-e1e6-448a-b6a0-2845d7e7ca02",
   "metadata": {},
   "outputs": [
    {
     "data": {
      "text/plain": [
       "((261496, 15), (261496, 8))"
      ]
     },
     "execution_count": 15,
     "metadata": {},
     "output_type": "execute_result"
    }
   ],
   "source": [
    "nom_parts = pd.merge(nom[['reestr', 'type', 'part', 'field5', 'field6', 'field7']].reset_index().rename(columns={'index': 'word_base_id'}),\n",
    "                     parts[['id', 'com']],\n",
    "                     left_on='part',\n",
    "                     right_on='id',\n",
    "                    )\n",
    "nom_parts.drop(columns=['id'], inplace=True)\n",
    "nom_parts.rename(columns={'part': 'pos_id', 'com': 'pos_name'}, inplace=True)\n",
    "nom_parts.sort_values(by='word_base_id', inplace=True)\n",
    "nom.shape, nom_parts.shape"
   ]
  },
  {
   "cell_type": "code",
   "execution_count": 16,
   "id": "7fb7ac34-91ac-452d-b261-2156cb6a17ea",
   "metadata": {},
   "outputs": [
    {
     "data": {
      "text/html": [
       "<div>\n",
       "<style scoped>\n",
       "    .dataframe tbody tr th:only-of-type {\n",
       "        vertical-align: middle;\n",
       "    }\n",
       "\n",
       "    .dataframe tbody tr th {\n",
       "        vertical-align: top;\n",
       "    }\n",
       "\n",
       "    .dataframe thead th {\n",
       "        text-align: right;\n",
       "    }\n",
       "</style>\n",
       "<table border=\"1\" class=\"dataframe\">\n",
       "  <thead>\n",
       "    <tr style=\"text-align: right;\">\n",
       "      <th></th>\n",
       "      <th>word_base_id</th>\n",
       "      <th>reestr</th>\n",
       "      <th>type</th>\n",
       "      <th>pos_id</th>\n",
       "      <th>field5</th>\n",
       "      <th>field6</th>\n",
       "      <th>field7</th>\n",
       "      <th>pos_name</th>\n",
       "    </tr>\n",
       "  </thead>\n",
       "  <tbody>\n",
       "    <tr>\n",
       "      <th>225670</th>\n",
       "      <td>192902</td>\n",
       "      <td>Подоляки\"</td>\n",
       "      <td>2225</td>\n",
       "      <td>14</td>\n",
       "      <td>(населений пункт в Україні)</td>\n",
       "      <td>None</td>\n",
       "      <td>None</td>\n",
       "      <td>множинний іменник</td>\n",
       "    </tr>\n",
       "    <tr>\n",
       "      <th>166301</th>\n",
       "      <td>214492</td>\n",
       "      <td>облистві\"ння</td>\n",
       "      <td>2108</td>\n",
       "      <td>13</td>\n",
       "      <td>None</td>\n",
       "      <td>None</td>\n",
       "      <td>None</td>\n",
       "      <td>іменник середнього роду</td>\n",
       "    </tr>\n",
       "    <tr>\n",
       "      <th>29378</th>\n",
       "      <td>242277</td>\n",
       "      <td>Ме\"лець</td>\n",
       "      <td>1547</td>\n",
       "      <td>8</td>\n",
       "      <td>(місто в Польщі)</td>\n",
       "      <td>None</td>\n",
       "      <td>None</td>\n",
       "      <td>іменник чоловічого роду</td>\n",
       "    </tr>\n",
       "    <tr>\n",
       "      <th>232512</th>\n",
       "      <td>42163</td>\n",
       "      <td>забрести\"</td>\n",
       "      <td>112</td>\n",
       "      <td>35</td>\n",
       "      <td>None</td>\n",
       "      <td>None</td>\n",
       "      <td>None</td>\n",
       "      <td>дієслово доконаного виду</td>\n",
       "    </tr>\n",
       "  </tbody>\n",
       "</table>\n",
       "</div>"
      ],
      "text/plain": [
       "        word_base_id        reestr  type  pos_id                       field5  \\\n",
       "225670        192902     Подоляки\"  2225      14  (населений пункт в Україні)   \n",
       "166301        214492  облистві\"ння  2108      13                         None   \n",
       "29378         242277       Ме\"лець  1547       8             (місто в Польщі)   \n",
       "232512         42163     забрести\"   112      35                         None   \n",
       "\n",
       "       field6 field7                  pos_name  \n",
       "225670   None   None         множинний іменник  \n",
       "166301   None   None   іменник середнього роду  \n",
       "29378    None   None   іменник чоловічого роду  \n",
       "232512   None   None  дієслово доконаного виду  "
      ]
     },
     "execution_count": 16,
     "metadata": {},
     "output_type": "execute_result"
    }
   ],
   "source": [
    "nom_parts.sample(4)"
   ]
  },
  {
   "cell_type": "code",
   "execution_count": 17,
   "id": "4690ed0c-5cdf-45e5-ac54-14ceb317e79e",
   "metadata": {},
   "outputs": [
    {
     "data": {
      "text/plain": [
       "((261496, 8), (261496, 9))"
      ]
     },
     "execution_count": 17,
     "metadata": {},
     "output_type": "execute_result"
    }
   ],
   "source": [
    "nom_indents = pd.merge(nom_parts,\n",
    "                       indents[['type', 'indent']],\n",
    "                       on='type'\n",
    "                      )\n",
    "nom_parts.shape, nom_indents.shape"
   ]
  },
  {
   "cell_type": "code",
   "execution_count": 18,
   "id": "50f592ea-98e3-4bf9-8e8d-98eb3c685fc8",
   "metadata": {},
   "outputs": [
    {
     "data": {
      "text/html": [
       "<div>\n",
       "<style scoped>\n",
       "    .dataframe tbody tr th:only-of-type {\n",
       "        vertical-align: middle;\n",
       "    }\n",
       "\n",
       "    .dataframe tbody tr th {\n",
       "        vertical-align: top;\n",
       "    }\n",
       "\n",
       "    .dataframe thead th {\n",
       "        text-align: right;\n",
       "    }\n",
       "</style>\n",
       "<table border=\"1\" class=\"dataframe\">\n",
       "  <thead>\n",
       "    <tr style=\"text-align: right;\">\n",
       "      <th></th>\n",
       "      <th>word_base_id</th>\n",
       "      <th>reestr</th>\n",
       "      <th>type</th>\n",
       "      <th>pos_id</th>\n",
       "      <th>field5</th>\n",
       "      <th>field6</th>\n",
       "      <th>field7</th>\n",
       "      <th>pos_name</th>\n",
       "      <th>indent</th>\n",
       "    </tr>\n",
       "  </thead>\n",
       "  <tbody>\n",
       "    <tr>\n",
       "      <th>196421</th>\n",
       "      <td>211863</td>\n",
       "      <td>картелюва\"тися</td>\n",
       "      <td>18</td>\n",
       "      <td>36</td>\n",
       "      <td>None</td>\n",
       "      <td>None</td>\n",
       "      <td>None</td>\n",
       "      <td>дієслово недоконаного виду</td>\n",
       "      <td>6</td>\n",
       "    </tr>\n",
       "    <tr>\n",
       "      <th>135904</th>\n",
       "      <td>139289</td>\n",
       "      <td>розледачі\"лий</td>\n",
       "      <td>2342</td>\n",
       "      <td>10</td>\n",
       "      <td>None</td>\n",
       "      <td>None</td>\n",
       "      <td>None</td>\n",
       "      <td>дієприкметник</td>\n",
       "      <td>2</td>\n",
       "    </tr>\n",
       "    <tr>\n",
       "      <th>187390</th>\n",
       "      <td>253268</td>\n",
       "      <td>одбува\"ти</td>\n",
       "      <td>697</td>\n",
       "      <td>36</td>\n",
       "      <td></td>\n",
       "      <td></td>\n",
       "      <td></td>\n",
       "      <td>дієслово недоконаного виду</td>\n",
       "      <td>2</td>\n",
       "    </tr>\n",
       "    <tr>\n",
       "      <th>103606</th>\n",
       "      <td>252035</td>\n",
       "      <td>аро\"нія</td>\n",
       "      <td>1182</td>\n",
       "      <td>5</td>\n",
       "      <td></td>\n",
       "      <td></td>\n",
       "      <td></td>\n",
       "      <td>іменник жіночого роду</td>\n",
       "      <td>1</td>\n",
       "    </tr>\n",
       "  </tbody>\n",
       "</table>\n",
       "</div>"
      ],
      "text/plain": [
       "        word_base_id          reestr  type  pos_id field5 field6 field7  \\\n",
       "196421        211863  картелюва\"тися    18      36   None   None   None   \n",
       "135904        139289   розледачі\"лий  2342      10   None   None   None   \n",
       "187390        253268       одбува\"ти   697      36                        \n",
       "103606        252035         аро\"нія  1182       5                        \n",
       "\n",
       "                          pos_name  indent  \n",
       "196421  дієслово недоконаного виду       6  \n",
       "135904               дієприкметник       2  \n",
       "187390  дієслово недоконаного виду       2  \n",
       "103606       іменник жіночого роду       1  "
      ]
     },
     "execution_count": 18,
     "metadata": {},
     "output_type": "execute_result"
    }
   ],
   "source": [
    "nom_indents.sample(4)"
   ]
  },
  {
   "cell_type": "code",
   "execution_count": 19,
   "id": "0dfdd9ca-be6f-4d0e-9817-c2cc0e2d880b",
   "metadata": {},
   "outputs": [],
   "source": [
    "nom_indents['reestr'] = nom_indents.reestr.str.replace('\"', '').str.replace('#', '')"
   ]
  },
  {
   "cell_type": "code",
   "execution_count": 20,
   "id": "19df3a8e-bd4a-420a-b49e-ecf956d3fc38",
   "metadata": {},
   "outputs": [
    {
     "name": "stdout",
     "output_type": "stream",
     "text": [
      "Removed 816 words\n"
     ]
    },
    {
     "data": {
      "text/plain": [
       "(260680, 9)"
      ]
     },
     "execution_count": 20,
     "metadata": {},
     "output_type": "execute_result"
    }
   ],
   "source": [
    "# Remove records with spaces in them\n",
    "# TODO: revisit those words\n",
    "cnd = ~nom_indents.reestr.apply(lambda x: ' ' in x)\n",
    "print(f'Removed {(~cnd).sum()} words')\n",
    "nom_indents = nom_indents.loc[cnd].copy()\n",
    "nom_indents.shape"
   ]
  },
  {
   "cell_type": "code",
   "execution_count": 21,
   "id": "cf65c2a1-2935-4586-9bb2-7c334eb45e30",
   "metadata": {},
   "outputs": [
    {
     "data": {
      "text/html": [
       "<div>\n",
       "<style scoped>\n",
       "    .dataframe tbody tr th:only-of-type {\n",
       "        vertical-align: middle;\n",
       "    }\n",
       "\n",
       "    .dataframe tbody tr th {\n",
       "        vertical-align: top;\n",
       "    }\n",
       "\n",
       "    .dataframe thead th {\n",
       "        text-align: right;\n",
       "    }\n",
       "</style>\n",
       "<table border=\"1\" class=\"dataframe\">\n",
       "  <thead>\n",
       "    <tr style=\"text-align: right;\">\n",
       "      <th></th>\n",
       "      <th>word_base_id</th>\n",
       "      <th>reestr</th>\n",
       "      <th>type</th>\n",
       "      <th>pos_id</th>\n",
       "      <th>field5</th>\n",
       "      <th>field6</th>\n",
       "      <th>field7</th>\n",
       "      <th>pos_name</th>\n",
       "      <th>indent</th>\n",
       "    </tr>\n",
       "  </thead>\n",
       "  <tbody>\n",
       "    <tr>\n",
       "      <th>67305</th>\n",
       "      <td>28923</td>\n",
       "      <td>глютамін</td>\n",
       "      <td>1864</td>\n",
       "      <td>8</td>\n",
       "      <td>None</td>\n",
       "      <td>None</td>\n",
       "      <td>None</td>\n",
       "      <td>іменник чоловічого роду</td>\n",
       "      <td>0</td>\n",
       "    </tr>\n",
       "    <tr>\n",
       "      <th>158786</th>\n",
       "      <td>29100</td>\n",
       "      <td>гнояка</td>\n",
       "      <td>1428</td>\n",
       "      <td>5</td>\n",
       "      <td>None</td>\n",
       "      <td>[зневажл.]</td>\n",
       "      <td>None</td>\n",
       "      <td>іменник жіночого роду</td>\n",
       "      <td>2</td>\n",
       "    </tr>\n",
       "    <tr>\n",
       "      <th>122763</th>\n",
       "      <td>156955</td>\n",
       "      <td>сфальшування</td>\n",
       "      <td>2108</td>\n",
       "      <td>13</td>\n",
       "      <td>None</td>\n",
       "      <td>None</td>\n",
       "      <td>None</td>\n",
       "      <td>іменник середнього роду</td>\n",
       "      <td>1</td>\n",
       "    </tr>\n",
       "    <tr>\n",
       "      <th>87800</th>\n",
       "      <td>71279</td>\n",
       "      <td>малопоживний</td>\n",
       "      <td>2324</td>\n",
       "      <td>11</td>\n",
       "      <td>None</td>\n",
       "      <td>None</td>\n",
       "      <td>None</td>\n",
       "      <td>прикметник</td>\n",
       "      <td>2</td>\n",
       "    </tr>\n",
       "  </tbody>\n",
       "</table>\n",
       "</div>"
      ],
      "text/plain": [
       "        word_base_id        reestr  type  pos_id field5      field6 field7  \\\n",
       "67305          28923      глютамін  1864       8   None        None   None   \n",
       "158786         29100        гнояка  1428       5   None  [зневажл.]   None   \n",
       "122763        156955  сфальшування  2108      13   None        None   None   \n",
       "87800          71279  малопоживний  2324      11   None        None   None   \n",
       "\n",
       "                       pos_name  indent  \n",
       "67305   іменник чоловічого роду       0  \n",
       "158786    іменник жіночого роду       2  \n",
       "122763  іменник середнього роду       1  \n",
       "87800                прикметник       2  "
      ]
     },
     "execution_count": 21,
     "metadata": {},
     "output_type": "execute_result"
    }
   ],
   "source": [
    "nom_indents.sample(4)"
   ]
  },
  {
   "cell_type": "code",
   "execution_count": 22,
   "id": "981d4ffd-aee8-4927-bdb9-8a5683d2b204",
   "metadata": {},
   "outputs": [],
   "source": [
    "nom_indents['word_base'] = nom_indents.apply(lambda x: x.reestr[:len(x.reestr)-x.indent], axis=1)"
   ]
  },
  {
   "cell_type": "code",
   "execution_count": 23,
   "id": "29c50a90-7b36-4b7a-8e27-713e1a0ce631",
   "metadata": {},
   "outputs": [],
   "source": [
    "nom_indents.sort_values(by='word_base_id', inplace=True)"
   ]
  },
  {
   "cell_type": "code",
   "execution_count": 24,
   "id": "c35fb5b6-8faf-4203-9d79-fcf0c58645b4",
   "metadata": {},
   "outputs": [
    {
     "data": {
      "text/html": [
       "<div>\n",
       "<style scoped>\n",
       "    .dataframe tbody tr th:only-of-type {\n",
       "        vertical-align: middle;\n",
       "    }\n",
       "\n",
       "    .dataframe tbody tr th {\n",
       "        vertical-align: top;\n",
       "    }\n",
       "\n",
       "    .dataframe thead th {\n",
       "        text-align: right;\n",
       "    }\n",
       "</style>\n",
       "<table border=\"1\" class=\"dataframe\">\n",
       "  <thead>\n",
       "    <tr style=\"text-align: right;\">\n",
       "      <th></th>\n",
       "      <th>word_base_id</th>\n",
       "      <th>reestr</th>\n",
       "      <th>type</th>\n",
       "      <th>pos_id</th>\n",
       "      <th>field5</th>\n",
       "      <th>field6</th>\n",
       "      <th>field7</th>\n",
       "      <th>pos_name</th>\n",
       "      <th>indent</th>\n",
       "      <th>word_base</th>\n",
       "    </tr>\n",
       "  </thead>\n",
       "  <tbody>\n",
       "    <tr>\n",
       "      <th>257130</th>\n",
       "      <td>245423</td>\n",
       "      <td>Пії</td>\n",
       "      <td>2185</td>\n",
       "      <td>14</td>\n",
       "      <td>(населений пункт в Україні)</td>\n",
       "      <td>None</td>\n",
       "      <td>None</td>\n",
       "      <td>множинний іменник</td>\n",
       "      <td>1</td>\n",
       "      <td>Пі</td>\n",
       "    </tr>\n",
       "    <tr>\n",
       "      <th>236392</th>\n",
       "      <td>48668</td>\n",
       "      <td>затикатися</td>\n",
       "      <td>702</td>\n",
       "      <td>35</td>\n",
       "      <td>(заквітчатися)</td>\n",
       "      <td>None</td>\n",
       "      <td>None</td>\n",
       "      <td>дієслово доконаного виду</td>\n",
       "      <td>4</td>\n",
       "      <td>затика</td>\n",
       "    </tr>\n",
       "    <tr>\n",
       "      <th>163311</th>\n",
       "      <td>240891</td>\n",
       "      <td>Линтварівка</td>\n",
       "      <td>1428</td>\n",
       "      <td>5</td>\n",
       "      <td>(населений пункт в Україні)</td>\n",
       "      <td></td>\n",
       "      <td></td>\n",
       "      <td>іменник жіночого роду</td>\n",
       "      <td>2</td>\n",
       "      <td>Линтварів</td>\n",
       "    </tr>\n",
       "    <tr>\n",
       "      <th>30788</th>\n",
       "      <td>142908</td>\n",
       "      <td>рубіновий</td>\n",
       "      <td>2302</td>\n",
       "      <td>11</td>\n",
       "      <td>None</td>\n",
       "      <td>None</td>\n",
       "      <td>None</td>\n",
       "      <td>прикметник</td>\n",
       "      <td>2</td>\n",
       "      <td>рубінов</td>\n",
       "    </tr>\n",
       "  </tbody>\n",
       "</table>\n",
       "</div>"
      ],
      "text/plain": [
       "        word_base_id       reestr  type  pos_id                       field5  \\\n",
       "257130        245423          Пії  2185      14  (населений пункт в Україні)   \n",
       "236392         48668   затикатися   702      35               (заквітчатися)   \n",
       "163311        240891  Линтварівка  1428       5  (населений пункт в Україні)   \n",
       "30788         142908    рубіновий  2302      11                         None   \n",
       "\n",
       "       field6 field7                  pos_name  indent  word_base  \n",
       "257130   None   None         множинний іменник       1         Пі  \n",
       "236392   None   None  дієслово доконаного виду       4     затика  \n",
       "163311                   іменник жіночого роду       2  Линтварів  \n",
       "30788    None   None                прикметник       2    рубінов  "
      ]
     },
     "execution_count": 24,
     "metadata": {},
     "output_type": "execute_result"
    }
   ],
   "source": [
    "nom_indents.sample(4)"
   ]
  },
  {
   "cell_type": "code",
   "execution_count": 25,
   "id": "0a5c4f67-470c-4f48-a022-76bd306611e4",
   "metadata": {},
   "outputs": [
    {
     "data": {
      "text/plain": [
       "(4929115, 12)"
      ]
     },
     "execution_count": 25,
     "metadata": {},
     "output_type": "execute_result"
    }
   ],
   "source": [
    "nom_flexes = pd.merge(nom_indents,\n",
    "                      flexes[['flex', 'gramm_category', 'type']],\n",
    "                      on='type'\n",
    "                     )\n",
    "nom_flexes.shape"
   ]
  },
  {
   "cell_type": "code",
   "execution_count": 26,
   "id": "3689af21-3bfd-466c-afb8-654072d89d36",
   "metadata": {},
   "outputs": [],
   "source": [
    "cnd = nom_flexes.flex.isna() | nom_flexes.flex.isin(['empty_', ' '])\n",
    "nom_flexes.loc[cnd, 'flex'] = ''"
   ]
  },
  {
   "cell_type": "code",
   "execution_count": 27,
   "id": "8448d456-2c17-46ba-a2a4-dd4eb9002725",
   "metadata": {},
   "outputs": [],
   "source": [
    "# Fix broken style\n",
    "cnd = nom_flexes.flex.str.startswith('^')\n",
    "nom_flexes.loc[cnd, 'flex'] = nom_flexes.loc[cnd, 'flex'].apply(lambda x: x[1:] + '^')"
   ]
  },
  {
   "cell_type": "code",
   "execution_count": 28,
   "id": "cda9a520-7eec-4d13-9581-fd0739856238",
   "metadata": {},
   "outputs": [],
   "source": [
    "nom_flexes['word'] = (nom_flexes.word_base + nom_flexes.flex).str.lower()"
   ]
  },
  {
   "cell_type": "code",
   "execution_count": 29,
   "id": "adba3f2e-b172-411c-a784-ed32d3a113c2",
   "metadata": {},
   "outputs": [
    {
     "data": {
      "text/plain": [
       "(4928901, 13)"
      ]
     },
     "execution_count": 29,
     "metadata": {},
     "output_type": "execute_result"
    }
   ],
   "source": [
    "cnd = ~nom_flexes.word.apply(lambda x: any(symbol in x for symbol in ' ()'))\n",
    "nom_flexes = nom_flexes.loc[cnd].copy()\n",
    "nom_flexes.shape"
   ]
  },
  {
   "cell_type": "code",
   "execution_count": 30,
   "id": "0d17381f-d2ee-4bcd-b88c-41db406b3ab6",
   "metadata": {},
   "outputs": [
    {
     "data": {
      "text/html": [
       "<div>\n",
       "<style scoped>\n",
       "    .dataframe tbody tr th:only-of-type {\n",
       "        vertical-align: middle;\n",
       "    }\n",
       "\n",
       "    .dataframe tbody tr th {\n",
       "        vertical-align: top;\n",
       "    }\n",
       "\n",
       "    .dataframe thead th {\n",
       "        text-align: right;\n",
       "    }\n",
       "</style>\n",
       "<table border=\"1\" class=\"dataframe\">\n",
       "  <thead>\n",
       "    <tr style=\"text-align: right;\">\n",
       "      <th></th>\n",
       "      <th>word_base_id</th>\n",
       "      <th>reestr</th>\n",
       "      <th>type</th>\n",
       "      <th>pos_id</th>\n",
       "      <th>field5</th>\n",
       "      <th>field6</th>\n",
       "      <th>field7</th>\n",
       "      <th>pos_name</th>\n",
       "      <th>indent</th>\n",
       "      <th>word_base</th>\n",
       "      <th>flex</th>\n",
       "      <th>gramm_category</th>\n",
       "      <th>word</th>\n",
       "    </tr>\n",
       "  </thead>\n",
       "  <tbody>\n",
       "    <tr>\n",
       "      <th>3046726</th>\n",
       "      <td>13243</td>\n",
       "      <td>вертольотобудівник</td>\n",
       "      <td>1788</td>\n",
       "      <td>7</td>\n",
       "      <td>None</td>\n",
       "      <td>None</td>\n",
       "      <td>None</td>\n",
       "      <td>іменник чоловічого роду, істота</td>\n",
       "      <td>0</td>\n",
       "      <td>вертольотобудівник</td>\n",
       "      <td>а</td>\n",
       "      <td>2.0</td>\n",
       "      <td>вертольотобудівника</td>\n",
       "    </tr>\n",
       "    <tr>\n",
       "      <th>1223211</th>\n",
       "      <td>202067</td>\n",
       "      <td>ропчанський</td>\n",
       "      <td>2326</td>\n",
       "      <td>11</td>\n",
       "      <td>None</td>\n",
       "      <td>None</td>\n",
       "      <td>None</td>\n",
       "      <td>прикметник</td>\n",
       "      <td>2</td>\n",
       "      <td>ропчанськ</td>\n",
       "      <td>ім</td>\n",
       "      <td>18.0</td>\n",
       "      <td>ропчанськім</td>\n",
       "    </tr>\n",
       "    <tr>\n",
       "      <th>4672027</th>\n",
       "      <td>123061</td>\n",
       "      <td>поцілитися</td>\n",
       "      <td>1098</td>\n",
       "      <td>35</td>\n",
       "      <td>None</td>\n",
       "      <td>None</td>\n",
       "      <td>None</td>\n",
       "      <td>дієслово доконаного виду</td>\n",
       "      <td>5</td>\n",
       "      <td>поціл</td>\n",
       "      <td>ивсь</td>\n",
       "      <td>11.0</td>\n",
       "      <td>поціливсь</td>\n",
       "    </tr>\n",
       "    <tr>\n",
       "      <th>816889</th>\n",
       "      <td>169139</td>\n",
       "      <td>фейлетончик</td>\n",
       "      <td>1776</td>\n",
       "      <td>8</td>\n",
       "      <td>None</td>\n",
       "      <td>None</td>\n",
       "      <td>None</td>\n",
       "      <td>іменник чоловічого роду</td>\n",
       "      <td>0</td>\n",
       "      <td>фейлетончик</td>\n",
       "      <td>ах</td>\n",
       "      <td>13.0</td>\n",
       "      <td>фейлетончиках</td>\n",
       "    </tr>\n",
       "  </tbody>\n",
       "</table>\n",
       "</div>"
      ],
      "text/plain": [
       "         word_base_id              reestr  type  pos_id field5 field6 field7  \\\n",
       "3046726         13243  вертольотобудівник  1788       7   None   None   None   \n",
       "1223211        202067         ропчанський  2326      11   None   None   None   \n",
       "4672027        123061          поцілитися  1098      35   None   None   None   \n",
       "816889         169139         фейлетончик  1776       8   None   None   None   \n",
       "\n",
       "                                pos_name  indent           word_base  flex  \\\n",
       "3046726  іменник чоловічого роду, істота       0  вертольотобудівник     а   \n",
       "1223211                       прикметник       2           ропчанськ    ім   \n",
       "4672027         дієслово доконаного виду       5               поціл  ивсь   \n",
       "816889           іменник чоловічого роду       0         фейлетончик    ах   \n",
       "\n",
       "         gramm_category                 word  \n",
       "3046726             2.0  вертольотобудівника  \n",
       "1223211            18.0          ропчанськім  \n",
       "4672027            11.0            поціливсь  \n",
       "816889             13.0        фейлетончиках  "
      ]
     },
     "execution_count": 30,
     "metadata": {},
     "output_type": "execute_result"
    }
   ],
   "source": [
    "nom_flexes.sample(4)"
   ]
  },
  {
   "cell_type": "code",
   "execution_count": 31,
   "id": "0b41db92-3b43-4cd4-a3a8-d27fc37ca527",
   "metadata": {},
   "outputs": [
    {
     "name": "stderr",
     "output_type": "stream",
     "text": [
      "100%|█████████████████████████████████████████████████████████████████| 6/6 [00:29<00:00,  4.87s/it]\n"
     ]
    }
   ],
   "source": [
    "nom_flexes['flex_note'] = float('nan')\n",
    "\n",
    "with tqdm(total=6) as tbar:\n",
    "    cnd = nom_flexes.word.str[-1] == '^'\n",
    "    nom_flexes.loc[cnd, 'flex_note'] = \"specific, shouldn't be used\"\n",
    "    nom_flexes.loc[cnd, 'word'] = nom_flexes.loc[cnd, 'word'].str[:-1]\n",
    "    tbar.update(1)\n",
    "\n",
    "    cnd = nom_flexes.word.str[-1] == '*'\n",
    "    nom_flexes.loc[cnd, 'flex_note'] = \"rare form\"\n",
    "    nom_flexes.loc[cnd, 'word'] = nom_flexes.loc[cnd, 'word'].str[:-1]\n",
    "    tbar.update(1)\n",
    "\n",
    "    cnd = nom_flexes.word.str[-1] == '%'\n",
    "    nom_flexes.loc[cnd, 'flex_note'] = 'Used like \"по ...\"'\n",
    "    nom_flexes.loc[cnd, 'word'] = nom_flexes.loc[cnd, 'word'].str[:-1]\n",
    "    tbar.update(1)\n",
    "\n",
    "    cnd = nom_flexes.word.str[-1] == '$'\n",
    "    nom_flexes.loc[cnd, 'flex_note'] = 'Used like \"на ...\"'\n",
    "    nom_flexes.loc[cnd, 'word'] = nom_flexes.loc[cnd, 'word'].str[:-1]\n",
    "    tbar.update(1)\n",
    "\n",
    "    cnd = nom_flexes.word.str[-1] == '&'\n",
    "    nom_flexes.loc[cnd, 'flex_note'] = 'Used like \"у/на ...\"'\n",
    "    nom_flexes.loc[cnd, 'word'] = nom_flexes.loc[cnd, 'word'].str[:-1]\n",
    "    tbar.update(1)\n",
    "\n",
    "    cnd = nom_flexes.word.str[-1] == '@'\n",
    "    nom_flexes.loc[cnd, 'flex_note'] = 'Used like \"до ...\"'\n",
    "    nom_flexes.loc[cnd, 'word'] = nom_flexes.loc[cnd, 'word'].str[:-1]\n",
    "    tbar.update(1)"
   ]
  },
  {
   "cell_type": "code",
   "execution_count": 32,
   "id": "d6cb5f64-27c3-4684-9c27-12ddaa38c04c",
   "metadata": {},
   "outputs": [],
   "source": [
    "nom_flexes.sort_values(by=['word_base_id', 'gramm_category'], inplace=True)"
   ]
  },
  {
   "cell_type": "code",
   "execution_count": 33,
   "id": "d017272b-30dc-4e71-b40f-ee7b6940dcb8",
   "metadata": {},
   "outputs": [],
   "source": [
    "nom_flexes.reset_index(drop=True, inplace=True)"
   ]
  },
  {
   "cell_type": "code",
   "execution_count": 34,
   "id": "b5571eaa-2b81-4ec8-bced-c484c1181fdf",
   "metadata": {},
   "outputs": [],
   "source": [
    "nom_flexes.reset_index(inplace=True)\n",
    "nom_flexes.rename(columns={'index': 'flex_id'}, inplace=True)"
   ]
  },
  {
   "cell_type": "code",
   "execution_count": 35,
   "id": "b95a9476-a186-447d-9848-0bb887d3768d",
   "metadata": {},
   "outputs": [
    {
     "data": {
      "text/html": [
       "<div>\n",
       "<style scoped>\n",
       "    .dataframe tbody tr th:only-of-type {\n",
       "        vertical-align: middle;\n",
       "    }\n",
       "\n",
       "    .dataframe tbody tr th {\n",
       "        vertical-align: top;\n",
       "    }\n",
       "\n",
       "    .dataframe thead th {\n",
       "        text-align: right;\n",
       "    }\n",
       "</style>\n",
       "<table border=\"1\" class=\"dataframe\">\n",
       "  <thead>\n",
       "    <tr style=\"text-align: right;\">\n",
       "      <th></th>\n",
       "      <th>flex_id</th>\n",
       "      <th>word_base_id</th>\n",
       "      <th>reestr</th>\n",
       "      <th>type</th>\n",
       "      <th>pos_id</th>\n",
       "      <th>field5</th>\n",
       "      <th>field6</th>\n",
       "      <th>field7</th>\n",
       "      <th>pos_name</th>\n",
       "      <th>indent</th>\n",
       "      <th>word_base</th>\n",
       "      <th>flex</th>\n",
       "      <th>gramm_category</th>\n",
       "      <th>word</th>\n",
       "      <th>flex_note</th>\n",
       "    </tr>\n",
       "  </thead>\n",
       "  <tbody>\n",
       "    <tr>\n",
       "      <th>422927</th>\n",
       "      <td>422927</td>\n",
       "      <td>21558</td>\n",
       "      <td>вікунья</td>\n",
       "      <td>1222</td>\n",
       "      <td>6</td>\n",
       "      <td>(тварина)</td>\n",
       "      <td>None</td>\n",
       "      <td>None</td>\n",
       "      <td>іменник жіночого роду, істота</td>\n",
       "      <td>2</td>\n",
       "      <td>вікун</td>\n",
       "      <td>ья</td>\n",
       "      <td>1.0</td>\n",
       "      <td>вікунья</td>\n",
       "      <td>NaN</td>\n",
       "    </tr>\n",
       "    <tr>\n",
       "      <th>320354</th>\n",
       "      <td>320354</td>\n",
       "      <td>16771</td>\n",
       "      <td>висип</td>\n",
       "      <td>1853</td>\n",
       "      <td>8</td>\n",
       "      <td>None</td>\n",
       "      <td>None</td>\n",
       "      <td>None</td>\n",
       "      <td>іменник чоловічого роду</td>\n",
       "      <td>0</td>\n",
       "      <td>висип</td>\n",
       "      <td>и*</td>\n",
       "      <td>14.0</td>\n",
       "      <td>висипи</td>\n",
       "      <td>rare form</td>\n",
       "    </tr>\n",
       "    <tr>\n",
       "      <th>10369</th>\n",
       "      <td>10369</td>\n",
       "      <td>556</td>\n",
       "      <td>автометричний</td>\n",
       "      <td>2302</td>\n",
       "      <td>11</td>\n",
       "      <td>None</td>\n",
       "      <td>None</td>\n",
       "      <td>None</td>\n",
       "      <td>прикметник</td>\n",
       "      <td>2</td>\n",
       "      <td>автометричн</td>\n",
       "      <td>ій</td>\n",
       "      <td>9.0</td>\n",
       "      <td>автометричній</td>\n",
       "      <td>NaN</td>\n",
       "    </tr>\n",
       "    <tr>\n",
       "      <th>3863018</th>\n",
       "      <td>3863018</td>\n",
       "      <td>198874</td>\n",
       "      <td>кізлівський</td>\n",
       "      <td>2326</td>\n",
       "      <td>11</td>\n",
       "      <td>None</td>\n",
       "      <td>None</td>\n",
       "      <td>None</td>\n",
       "      <td>прикметник</td>\n",
       "      <td>2</td>\n",
       "      <td>кізлівськ</td>\n",
       "      <td>ая^</td>\n",
       "      <td>7.0</td>\n",
       "      <td>кізлівськая</td>\n",
       "      <td>specific, shouldn't be used</td>\n",
       "    </tr>\n",
       "  </tbody>\n",
       "</table>\n",
       "</div>"
      ],
      "text/plain": [
       "         flex_id  word_base_id         reestr  type  pos_id     field5 field6  \\\n",
       "422927    422927         21558        вікунья  1222       6  (тварина)   None   \n",
       "320354    320354         16771          висип  1853       8       None   None   \n",
       "10369      10369           556  автометричний  2302      11       None   None   \n",
       "3863018  3863018        198874    кізлівський  2326      11       None   None   \n",
       "\n",
       "        field7                       pos_name  indent    word_base flex  \\\n",
       "422927    None  іменник жіночого роду, істота       2        вікун   ья   \n",
       "320354    None        іменник чоловічого роду       0        висип   и*   \n",
       "10369     None                     прикметник       2  автометричн   ій   \n",
       "3863018   None                     прикметник       2    кізлівськ  ая^   \n",
       "\n",
       "         gramm_category           word                    flex_note  \n",
       "422927              1.0        вікунья                          NaN  \n",
       "320354             14.0         висипи                    rare form  \n",
       "10369               9.0  автометричній                          NaN  \n",
       "3863018             7.0    кізлівськая  specific, shouldn't be used  "
      ]
     },
     "execution_count": 35,
     "metadata": {},
     "output_type": "execute_result"
    }
   ],
   "source": [
    "nom_flexes.sample(4)"
   ]
  },
  {
   "cell_type": "code",
   "execution_count": 36,
   "id": "f2a3da18-2100-46b3-98f9-61b907447085",
   "metadata": {},
   "outputs": [
    {
     "name": "stderr",
     "output_type": "stream",
     "text": [
      "100%|██████████████████████████████████████████████████| 4928901/4928901 [05:40<00:00, 14486.56it/s]\n"
     ]
    },
    {
     "data": {
      "text/plain": [
       "[{'wordform': 'а',\n",
       "  'main_form': 'а',\n",
       "  'mphdict_word_base_id': 0,\n",
       "  'mphdict_pos_name': 'вигук',\n",
       "  'mphdict_gramm_category': nan,\n",
       "  'mphdict_field5': None},\n",
       " {'wordform': 'а',\n",
       "  'main_form': 'а',\n",
       "  'mphdict_word_base_id': 1,\n",
       "  'mphdict_pos_name': 'сполучник',\n",
       "  'mphdict_gramm_category': nan,\n",
       "  'mphdict_field5': None},\n",
       " {'wordform': 'а',\n",
       "  'main_form': 'а',\n",
       "  'mphdict_word_base_id': 2,\n",
       "  'mphdict_pos_name': 'частка',\n",
       "  'mphdict_gramm_category': nan,\n",
       "  'mphdict_field5': None}]"
      ]
     },
     "execution_count": 36,
     "metadata": {},
     "output_type": "execute_result"
    }
   ],
   "source": [
    "def flex_to_dict(record):\n",
    "    ans = {\n",
    "        'wordform': record.word,\n",
    "        'main_form': record.reestr.lower(),\n",
    "        'mphdict_word_base_id': record.word_base_id,\n",
    "        'mphdict_pos_name': record.pos_name,\n",
    "        'mphdict_gramm_category': record.gramm_category,\n",
    "        'mphdict_field5': record.field5,\n",
    "    }\n",
    "    return ans\n",
    "\n",
    "all_wordforms = nom_flexes.progress_apply(flex_to_dict, axis=1).tolist()\n",
    "all_wordforms[:3]"
   ]
  },
  {
   "cell_type": "markdown",
   "id": "a3bf7604-b201-4bae-8d75-2049e55bfd95",
   "metadata": {},
   "source": [
    "## Wordforms postprocessing"
   ]
  },
  {
   "cell_type": "code",
   "execution_count": 37,
   "id": "5308e1b8-1194-4c90-ad14-e7a31bfe2ce1",
   "metadata": {},
   "outputs": [
    {
     "name": "stderr",
     "output_type": "stream",
     "text": [
      "100%|█████████████████████████████████████████████████| 4928901/4928901 [00:22<00:00, 220785.45it/s]\n"
     ]
    }
   ],
   "source": [
    "# remove NaN fields\n",
    "for i in tqdm(all_wordforms):\n",
    "    for k, v in list(i.items()):\n",
    "        if pd.isna(v):\n",
    "            del i[k]"
   ]
  },
  {
   "cell_type": "code",
   "execution_count": 38,
   "id": "cc2d267a-40d4-4d44-8335-b562763e177c",
   "metadata": {},
   "outputs": [
    {
     "name": "stderr",
     "output_type": "stream",
     "text": [
      "100%|████████████████████████████████████████████████| 4928901/4928901 [00:04<00:00, 1085908.46it/s]\n"
     ]
    }
   ],
   "source": [
    "for i in tqdm(all_wordforms):\n",
    "    i['lang'] = 'українська'\n",
    "    gc = i.get('mphdict_gramm_category')\n",
    "    if isinstance(gc, float):\n",
    "        i['mphdict_gramm_category'] = int(gc)"
   ]
  },
  {
   "cell_type": "code",
   "execution_count": 39,
   "id": "ea351916-4010-4604-9563-a9e3146e8459",
   "metadata": {},
   "outputs": [
    {
     "data": {
      "text/plain": [
       "[{'wordform': 'а',\n",
       "  'main_form': 'а',\n",
       "  'mphdict_word_base_id': 0,\n",
       "  'mphdict_pos_name': 'вигук',\n",
       "  'lang': 'українська'},\n",
       " {'wordform': 'а',\n",
       "  'main_form': 'а',\n",
       "  'mphdict_word_base_id': 1,\n",
       "  'mphdict_pos_name': 'сполучник',\n",
       "  'lang': 'українська'},\n",
       " {'wordform': 'а',\n",
       "  'main_form': 'а',\n",
       "  'mphdict_word_base_id': 2,\n",
       "  'mphdict_pos_name': 'частка',\n",
       "  'lang': 'українська'}]"
      ]
     },
     "execution_count": 39,
     "metadata": {},
     "output_type": "execute_result"
    }
   ],
   "source": [
    "all_wordforms[:3]"
   ]
  },
  {
   "cell_type": "markdown",
   "id": "7d2cde99-60a2-4504-aa3e-33a18ab71245",
   "metadata": {},
   "source": [
    "### Surnames"
   ]
  },
  {
   "cell_type": "code",
   "execution_count": 40,
   "id": "151f7aa2-f5d4-4ed7-ba06-4422f8635a72",
   "metadata": {},
   "outputs": [
    {
     "name": "stderr",
     "output_type": "stream",
     "text": [
      "100%|████████████████████████████████████████████████| 4928901/4928901 [00:02<00:00, 2266606.42it/s]\n"
     ]
    }
   ],
   "source": [
    "cases = 'називний родовий давальний знахідний орудний місцевий кличний'.split()\n",
    "\n",
    "j = 0\n",
    "for i in tqdm(all_wordforms):\n",
    "    if 'прізвище' in i.get('mphdict_pos_name'):\n",
    "        i['pos'] = 'proper_name'\n",
    "        i['person_name_part'] = 'surname'\n",
    "        gramm_category = i.get('mphdict_gramm_category', 100)\n",
    "        if gramm_category < 22:\n",
    "            i['case_ukr'] = cases[(gramm_category-1) % 7]"
   ]
  },
  {
   "cell_type": "markdown",
   "id": "c2fb64c1-4bd0-476e-b442-31913289fbcb",
   "metadata": {},
   "source": [
    "## Further postprocessing"
   ]
  },
  {
   "cell_type": "code",
   "execution_count": 41,
   "id": "8c706fbf-ecc5-497b-816c-849cea3bbe8d",
   "metadata": {},
   "outputs": [
    {
     "name": "stderr",
     "output_type": "stream",
     "text": [
      "100%|████████████████████████████████████████████████| 4928901/4928901 [00:01<00:00, 2857517.33it/s]\n"
     ]
    }
   ],
   "source": [
    "case_ukr_to_case = {\n",
    "    'називний': 'nominative',\n",
    "    'родовий': 'genitive',\n",
    "    'давальний': 'dative',\n",
    "    'знахідний': 'accusative',\n",
    "    'орудний': 'instrumental',\n",
    "    'місцевий': 'locative',\n",
    "    'кличний': 'vocative'\n",
    "}\n",
    "\n",
    "for i in tqdm(all_wordforms):\n",
    "    if 'case_ukr' in i:\n",
    "        i['case'] = case_ukr_to_case[i['case_ukr']]"
   ]
  },
  {
   "cell_type": "markdown",
   "id": "7aa1ae5c-0460-43cb-a771-2a464f52add7",
   "metadata": {},
   "source": [
    "## Saving"
   ]
  },
  {
   "cell_type": "code",
   "execution_count": 42,
   "id": "d13db71e-86ee-4fc1-8226-3f3062ff2a43",
   "metadata": {},
   "outputs": [
    {
     "data": {
      "text/plain": [
       "4928901"
      ]
     },
     "execution_count": 42,
     "metadata": {},
     "output_type": "execute_result"
    }
   ],
   "source": [
    "len(all_wordforms)"
   ]
  },
  {
   "cell_type": "code",
   "execution_count": 43,
   "id": "cda3f8f3-b61b-490f-a64a-faecca0f595c",
   "metadata": {},
   "outputs": [],
   "source": [
    "with open('data/ukr_wordforms.json', 'w') as f:\n",
    "    json.dump(all_wordforms, f, indent=2)"
   ]
  },
  {
   "cell_type": "markdown",
   "id": "6cdf12c7-49c1-484c-9e89-ff7de01e273a",
   "metadata": {},
   "source": [
    "# RU\n",
    "\n",
    "Processing was implemented for dataset from that website: http://odict.ru/ <br>\n",
    "As specified on the website - that dataset changed distribution terms since I worked with it last time, so next steps for preparing Russian language wordforms are no more relevant"
   ]
  },
  {
   "cell_type": "markdown",
   "id": "6b90852d-0485-40fd-99ba-2494188c45a4",
   "metadata": {},
   "source": [
    "## Read data"
   ]
  },
  {
   "cell_type": "code",
   "execution_count": 45,
   "id": "f07c528a-9dac-49bf-8d0c-1473356d6571",
   "metadata": {},
   "outputs": [
    {
     "name": "stderr",
     "output_type": "stream",
     "text": [
      "/home/alex/.local/lib/python3.9/site-packages/IPython/core/interactiveshell.py:3444: DtypeWarning: Columns (214,215,216,217) have mixed types.Specify dtype option on import or set low_memory=False.\n",
      "  exec(code_obj, self.user_global_ns, self.user_ns)\n"
     ]
    },
    {
     "data": {
      "text/plain": [
       "(103358, 218)"
      ]
     },
     "execution_count": 45,
     "metadata": {},
     "output_type": "execute_result"
    }
   ],
   "source": [
    "odict = pd.read_csv('data/odict_resaved.csv', header=None, encoding='windows-1251')\n",
    "odict.shape"
   ]
  },
  {
   "cell_type": "markdown",
   "id": "f9dab281-6bde-4aa3-909e-40ecae444111",
   "metadata": {},
   "source": [
    "## Wordforms generation"
   ]
  },
  {
   "cell_type": "code",
   "execution_count": 47,
   "id": "8f2de7bd-598e-473a-9600-745865b048f4",
   "metadata": {},
   "outputs": [
    {
     "name": "stderr",
     "output_type": "stream",
     "text": [
      "100%|█████████████████████████████████████████████████████████████| 218/218 [00:06<00:00, 32.16it/s]\n"
     ]
    }
   ],
   "source": [
    "odict = odict.progress_apply(lambda row: row.apply(lambda x: x.lower() if isinstance(x, str) else x)).copy()"
   ]
  },
  {
   "cell_type": "code",
   "execution_count": 48,
   "id": "6c2a223b-8742-4709-a041-72598a8c0ba5",
   "metadata": {},
   "outputs": [
    {
     "data": {
      "text/plain": [
       "(102098, 218)"
      ]
     },
     "execution_count": 48,
     "metadata": {},
     "output_type": "execute_result"
    }
   ],
   "source": [
    "odict.drop_duplicates(inplace=True)\n",
    "odict.shape"
   ]
  },
  {
   "cell_type": "code",
   "execution_count": 49,
   "id": "99c8d9b7-05d8-480d-a6ef-8a5d29581c41",
   "metadata": {
    "tags": []
   },
   "outputs": [
    {
     "data": {
      "text/plain": [
       "п          21402\n",
       "ж          15203\n",
       "м          14299\n",
       "св         14006\n",
       "нсв        12150\n",
       "мо          9415\n",
       "с           6475\n",
       "жо          3821\n",
       "н           1453\n",
       "мн.         1021\n",
       "св-нсв       905\n",
       "ф.           440\n",
       "мо-жо        423\n",
       "предик.      280\n",
       "межд.        185\n",
       "предл.       127\n",
       "част.        108\n",
       "союз          87\n",
       "вводн.        65\n",
       "числ.         63\n",
       "мс-п          50\n",
       "со            42\n",
       "сравн.        39\n",
       "числ.-п       39\n",
       "Name: 1, dtype: int64"
      ]
     },
     "execution_count": 49,
     "metadata": {},
     "output_type": "execute_result"
    }
   ],
   "source": [
    "# All POS-like tags\n",
    "odict[1].value_counts()"
   ]
  },
  {
   "cell_type": "code",
   "execution_count": 50,
   "id": "990dc845-39a3-4101-9b26-a82c21e2628a",
   "metadata": {},
   "outputs": [
    {
     "name": "stderr",
     "output_type": "stream",
     "text": [
      "100%|██████████████████████████████████████████████████████| 102098/102098 [02:04<00:00, 821.69it/s]\n"
     ]
    },
    {
     "data": {
      "text/plain": [
       "4449609"
      ]
     },
     "execution_count": 50,
     "metadata": {},
     "output_type": "execute_result"
    }
   ],
   "source": [
    "cases = ['именительный', 'родительный', 'дательный', 'винительный', 'творительный', 'предложный']\n",
    "\n",
    "wordforms = []\n",
    "\n",
    "def account_row(row):\n",
    "    word = {\n",
    "        'lang': 'русский',\n",
    "        'source': 'odict',\n",
    "        'main_form': row.iloc[0],\n",
    "    }\n",
    "    odict_pos = row.iloc[1]\n",
    "    row = row.drop([1]).dropna().copy()\n",
    "    for i, v in row.iteritems():\n",
    "        # wf = word.copy()\n",
    "        wf = dict(**word)\n",
    "        wf |= {\n",
    "            'wordform': v,\n",
    "            'odict_column': i,\n",
    "            'odict_row': row.name,\n",
    "            'odict_pos': odict_pos\n",
    "        }\n",
    "        if odict_pos == 'ф.':  # surnames\n",
    "            wf['pos'] = 'proper_name'\n",
    "            wf['person_name_part'] = 'surname'\n",
    "            if i > 0:\n",
    "                i -= 1\n",
    "            if i < 21:\n",
    "                case_idx = i % 7\n",
    "                if case_idx < 6:\n",
    "                    wf['case_ru'] = cases[case_idx]\n",
    "        if 15 in row and row[15].endswith('вич'):  # male name + patronimic\n",
    "            wf['pos'] = 'proper_name'\n",
    "            if i < 15:\n",
    "                wf['person_name_part'] = 'first_name'\n",
    "            else:\n",
    "                wf['person_name_part'] = 'patronimic'\n",
    "                wf['father_name'] = row.iloc[0]\n",
    "                if i < 29:\n",
    "                    wf['main_form'] = row[15]\n",
    "                elif i < 44:\n",
    "                    wf['main_form'] = row[29]\n",
    "                elif i < 58:\n",
    "                    wf['main_form'] = row[44]\n",
    "                else:\n",
    "                    wf['main_form'] = row[58]\n",
    "        wordforms.append(wf)\n",
    "\n",
    "odict.progress_apply(account_row, axis=1)\n",
    "len(wordforms)"
   ]
  },
  {
   "cell_type": "code",
   "execution_count": 54,
   "id": "64879a6e-a876-4239-b31a-54ce2168f377",
   "metadata": {
    "tags": []
   },
   "outputs": [
    {
     "name": "stderr",
     "output_type": "stream",
     "text": [
      "100%|████████████████████████████████████████████████| 4449609/4449609 [00:01<00:00, 2843901.54it/s]\n"
     ]
    }
   ],
   "source": [
    "case_ru_to_case = {\n",
    "    'именительный': 'nominative',\n",
    "    'родительный': 'genitive',\n",
    "    'дательный': 'dative',\n",
    "    'винительный': 'accusative',\n",
    "    'творительный': 'instrumental',\n",
    "    'предложный': 'locative'\n",
    "}\n",
    "\n",
    "for i in tqdm(wordforms):\n",
    "    if 'case_ru' in i:\n",
    "        i['case'] = case_ru_to_case[i['case_ru']]"
   ]
  },
  {
   "cell_type": "code",
   "execution_count": 55,
   "id": "1f341a7a-d83f-4bb5-9f69-6c605c745cfb",
   "metadata": {},
   "outputs": [
    {
     "data": {
      "text/plain": [
       "[{'lang': 'русский',\n",
       "  'source': 'odict',\n",
       "  'main_form': 'а',\n",
       "  'wordform': 'а',\n",
       "  'odict_column': 0,\n",
       "  'odict_row': 0,\n",
       "  'odict_pos': 'межд.'},\n",
       " {'lang': 'русский',\n",
       "  'source': 'odict',\n",
       "  'main_form': 'а',\n",
       "  'wordform': 'а',\n",
       "  'odict_column': 0,\n",
       "  'odict_row': 1,\n",
       "  'odict_pos': 'с'},\n",
       " {'lang': 'русский',\n",
       "  'source': 'odict',\n",
       "  'main_form': 'а',\n",
       "  'wordform': 'а',\n",
       "  'odict_column': 2,\n",
       "  'odict_row': 1,\n",
       "  'odict_pos': 'с'}]"
      ]
     },
     "execution_count": 55,
     "metadata": {},
     "output_type": "execute_result"
    }
   ],
   "source": [
    "wordforms[:3]"
   ]
  },
  {
   "cell_type": "code",
   "execution_count": 56,
   "id": "9c876556-08ec-4ef3-8352-5a7b5a415225",
   "metadata": {},
   "outputs": [
    {
     "data": {
      "text/plain": [
       "4449602"
      ]
     },
     "execution_count": 56,
     "metadata": {},
     "output_type": "execute_result"
    }
   ],
   "source": [
    "# Filter out problematic wordforms\n",
    "\n",
    "def is_wf_ok(wf):\n",
    "    if wf['wordform'].startswith('-'):\n",
    "        return False\n",
    "    return True\n",
    "\n",
    "\n",
    "wordforms = [i for i in wordforms if is_wf_ok(i)]\n",
    "len(wordforms)"
   ]
  },
  {
   "cell_type": "markdown",
   "id": "48942efc-4be6-469c-bb62-5893a5887a61",
   "metadata": {},
   "source": [
    "## Saving"
   ]
  },
  {
   "cell_type": "code",
   "execution_count": 57,
   "id": "3d628aef-a2ef-4a05-b7b0-6bc3ea439bb3",
   "metadata": {},
   "outputs": [
    {
     "data": {
      "text/plain": [
       "4449602"
      ]
     },
     "execution_count": 57,
     "metadata": {},
     "output_type": "execute_result"
    }
   ],
   "source": [
    "len(wordforms)"
   ]
  },
  {
   "cell_type": "code",
   "execution_count": 58,
   "id": "11f5bda8-3138-4ca2-9ded-ed4c1ddc3061",
   "metadata": {},
   "outputs": [],
   "source": [
    "with open('data/ru_wordforms.json', 'w') as f:\n",
    "    json.dump(wordforms, f, indent=2)"
   ]
  }
 ],
 "metadata": {
  "kernelspec": {
   "display_name": "python3.9",
   "language": "python",
   "name": "python3.9"
  },
  "language_info": {
   "codemirror_mode": {
    "name": "ipython",
    "version": 3
   },
   "file_extension": ".py",
   "mimetype": "text/x-python",
   "name": "python",
   "nbconvert_exporter": "python",
   "pygments_lexer": "ipython3",
   "version": "3.9.0"
  }
 },
 "nbformat": 4,
 "nbformat_minor": 5
}
